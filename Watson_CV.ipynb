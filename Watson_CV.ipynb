{
 "cells": [
  {
   "cell_type": "code",
   "execution_count": 8,
   "metadata": {
    "ExecuteTime": {
     "end_time": "2019-02-25T16:07:44.948231Z",
     "start_time": "2019-02-25T16:07:44.921291Z"
    }
   },
   "outputs": [],
   "source": [
    "from watson_developer_cloud import VisualRecognitionV3\n",
    "from hidden import api_key\n",
    "import json"
   ]
  },
  {
   "cell_type": "code",
   "execution_count": 4,
   "metadata": {
    "ExecuteTime": {
     "end_time": "2019-02-25T16:03:31.197181Z",
     "start_time": "2019-02-25T16:03:31.168351Z"
    }
   },
   "outputs": [],
   "source": [
    "visual_recognition = VisualRecognitionV3(\n",
    "    version='2018-03-19',\n",
    "    iam_apikey=api_key\n",
    ")"
   ]
  },
  {
   "cell_type": "code",
   "execution_count": 5,
   "metadata": {
    "ExecuteTime": {
     "end_time": "2019-02-25T16:06:39.517293Z",
     "start_time": "2019-02-25T16:06:39.444644Z"
    }
   },
   "outputs": [],
   "source": [
    "image_path = './banana.jpg'"
   ]
  },
  {
   "cell_type": "code",
   "execution_count": 10,
   "metadata": {
    "ExecuteTime": {
     "end_time": "2019-02-25T16:08:38.097638Z",
     "start_time": "2019-02-25T16:08:29.765655Z"
    }
   },
   "outputs": [
    {
     "name": "stdout",
     "output_type": "stream",
     "text": [
      "{\n",
      "  \"images\": [\n",
      "    {\n",
      "      \"classifiers\": [\n",
      "        {\n",
      "          \"classifier_id\": \"default\",\n",
      "          \"name\": \"default\",\n",
      "          \"classes\": [\n",
      "            {\n",
      "              \"class\": \"banana\",\n",
      "              \"score\": 0.928,\n",
      "              \"type_hierarchy\": \"/fruit/banana\"\n",
      "            },\n",
      "            {\n",
      "              \"class\": \"fruit\",\n",
      "              \"score\": 0.764\n",
      "            },\n",
      "            {\n",
      "              \"class\": \"edible banana\",\n",
      "              \"score\": 0.688,\n",
      "              \"type_hierarchy\": \"/plant/herb/banana/edible banana\"\n",
      "            },\n",
      "            {\n",
      "              \"class\": \"herb\",\n",
      "              \"score\": 0.688\n",
      "            },\n",
      "            {\n",
      "              \"class\": \"plant\",\n",
      "              \"score\": 0.688\n",
      "            },\n",
      "            {\n",
      "              \"class\": \"vegetable\",\n",
      "              \"score\": 0.799\n",
      "            },\n",
      "            {\n",
      "              \"class\": \"lemon yellow color\",\n",
      "              \"score\": 0.999\n",
      "            }\n",
      "          ]\n",
      "        }\n",
      "      ],\n",
      "      \"image\": \"banana.jpg\"\n",
      "    }\n",
      "  ],\n",
      "  \"images_processed\": 1,\n",
      "  \"custom_classes\": 0\n",
      "}\n"
     ]
    }
   ],
   "source": [
    "with open(image_path, 'rb') as images_file:\n",
    "    classes = visual_recognition.classify(\n",
    "        images_file,\n",
    "        threshold='0.6',\n",
    "        owners=[\"IBM\"]).get_result()\n",
    "    print(json.dumps(classes, indent=2))\n",
    "    final = json.dumps(classes)"
   ]
  },
  {
   "cell_type": "code",
   "execution_count": 31,
   "metadata": {
    "ExecuteTime": {
     "end_time": "2019-02-25T16:18:29.401707Z",
     "start_time": "2019-02-25T16:18:29.371120Z"
    }
   },
   "outputs": [
    {
     "data": {
      "text/plain": [
       "'banana'"
      ]
     },
     "execution_count": 31,
     "metadata": {},
     "output_type": "execute_result"
    }
   ],
   "source": [
    "classes['images'][0]['classifiers'][0]['classes'][0]['class']"
   ]
  },
  {
   "cell_type": "code",
   "execution_count": null,
   "metadata": {},
   "outputs": [],
   "source": []
  }
 ],
 "metadata": {
  "kernelspec": {
   "display_name": "Python 3",
   "language": "python",
   "name": "python3"
  },
  "language_info": {
   "codemirror_mode": {
    "name": "ipython",
    "version": 3
   },
   "file_extension": ".py",
   "mimetype": "text/x-python",
   "name": "python",
   "nbconvert_exporter": "python",
   "pygments_lexer": "ipython3",
   "version": "3.6.0"
  }
 },
 "nbformat": 4,
 "nbformat_minor": 2
}
